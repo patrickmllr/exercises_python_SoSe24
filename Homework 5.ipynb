{
 "cells": [
  {
   "cell_type": "code",
   "execution_count": 1,
   "id": "4664b57c",
   "metadata": {},
   "outputs": [],
   "source": [
    "import numpy as np\n",
    "import pandas as pd"
   ]
  },
  {
   "cell_type": "code",
   "execution_count": 18,
   "id": "746bd237",
   "metadata": {},
   "outputs": [
    {
     "data": {
      "text/plain": [
       "Date\n",
       "2011    0.028026\n",
       "2012    0.068209\n",
       "2013    0.591654\n",
       "2014    0.155168\n",
       "2015    0.030221\n",
       "2016   -0.046093\n",
       "2017    0.149957\n",
       "2018    0.026543\n",
       "2019    0.090765\n",
       "2020    0.842812\n",
       "2021    0.160252\n",
       "2022   -0.418615\n",
       "Name: In_Returns, dtype: float64"
      ]
     },
     "execution_count": 18,
     "metadata": {},
     "output_type": "execute_result"
    }
   ],
   "source": [
    "file = 'data/TSLA.csv'\n",
    "\n",
    "df = pd.read_csv(file, decimal = \".\")\n",
    "\n",
    "df = df[['Date', 'Close']]\n",
    "\n",
    "df['Date'] = pd.to_datetime(df['Date'], format = '%Y-%m-%d')\n",
    "\n",
    "df = df[(df['Date'].dt.year >= 2011) & (df['Date'].dt.year <= 2022)]\n",
    "\n",
    "df['In_Returns'] = (np.log(df['Close']) - np.log(df['Close'].shift(1)))*100\n",
    "\n",
    "df_avg = df['In_Returns'].groupby(df['Date'].dt.year).mean()\n",
    "\n",
    "df_avg\n",
    "\n"
   ]
  },
  {
   "cell_type": "code",
   "execution_count": 19,
   "id": "a317b64e",
   "metadata": {},
   "outputs": [
    {
     "data": {
      "text/plain": [
       "0.18763373982748632"
      ]
     },
     "execution_count": 19,
     "metadata": {},
     "output_type": "execute_result"
    }
   ],
   "source": [
    "# Current Value - old Value\n",
    "(np.log(1.778000) - np.log(1.774667))*100"
   ]
  },
  {
   "cell_type": "code",
   "execution_count": 20,
   "id": "c29bfb87",
   "metadata": {},
   "outputs": [
    {
     "data": {
      "text/plain": [
       "{2011: 0.028,\n",
       " 2012: 0.068,\n",
       " 2013: 0.592,\n",
       " 2014: 0.155,\n",
       " 2015: 0.03,\n",
       " 2016: -0.046,\n",
       " 2017: 0.15,\n",
       " 2018: 0.027,\n",
       " 2019: 0.091,\n",
       " 2020: 0.843,\n",
       " 2021: 0.16,\n",
       " 2022: -0.419}"
      ]
     },
     "execution_count": 20,
     "metadata": {},
     "output_type": "execute_result"
    }
   ],
   "source": [
    "years = list(df_avg.index)\n",
    "values = list(np.round(df_avg.values,3))\n",
    "\n",
    "zipped = zip(years, values)\n",
    "\n",
    "my_dict = dict(zipped)\n",
    "\n",
    "my_dict"
   ]
  }
 ],
 "metadata": {
  "kernelspec": {
   "display_name": "Python 3 (ipykernel)",
   "language": "python",
   "name": "python3"
  },
  "language_info": {
   "codemirror_mode": {
    "name": "ipython",
    "version": 3
   },
   "file_extension": ".py",
   "mimetype": "text/x-python",
   "name": "python",
   "nbconvert_exporter": "python",
   "pygments_lexer": "ipython3",
   "version": "3.11.5"
  }
 },
 "nbformat": 4,
 "nbformat_minor": 5
}
