{
 "cells": [
  {
   "cell_type": "code",
   "execution_count": 1,
   "id": "234dd6c9",
   "metadata": {},
   "outputs": [],
   "source": [
    "import pandas as pd"
   ]
  },
  {
   "cell_type": "code",
   "execution_count": 5,
   "id": "61df34d7",
   "metadata": {
    "scrolled": true
   },
   "outputs": [
    {
     "data": {
      "text/html": [
       "<div>\n",
       "<style scoped>\n",
       "    .dataframe tbody tr th:only-of-type {\n",
       "        vertical-align: middle;\n",
       "    }\n",
       "\n",
       "    .dataframe tbody tr th {\n",
       "        vertical-align: top;\n",
       "    }\n",
       "\n",
       "    .dataframe thead th {\n",
       "        text-align: right;\n",
       "    }\n",
       "</style>\n",
       "<table border=\"1\" class=\"dataframe\">\n",
       "  <thead>\n",
       "    <tr style=\"text-align: right;\">\n",
       "      <th></th>\n",
       "      <th>country,\"continent\",\"year\",\"lifeExp\",\"pop\",\"gdpPercap\"</th>\n",
       "    </tr>\n",
       "  </thead>\n",
       "  <tbody>\n",
       "    <tr>\n",
       "      <th>0</th>\n",
       "      <td>Afghanistan,\"Asia\",1952,28.801,8425333,779.445...</td>\n",
       "    </tr>\n",
       "    <tr>\n",
       "      <th>1</th>\n",
       "      <td>Afghanistan,\"Asia\",1957,30.332,9240934,820.853...</td>\n",
       "    </tr>\n",
       "    <tr>\n",
       "      <th>2</th>\n",
       "      <td>Afghanistan,\"Asia\",1962,31.997,10267083,853.10071</td>\n",
       "    </tr>\n",
       "    <tr>\n",
       "      <th>3</th>\n",
       "      <td>Afghanistan,\"Asia\",1967,34.02,11537966,836.197...</td>\n",
       "    </tr>\n",
       "    <tr>\n",
       "      <th>4</th>\n",
       "      <td>Afghanistan,\"Asia\",1972,36.088,13079460,739.98...</td>\n",
       "    </tr>\n",
       "    <tr>\n",
       "      <th>...</th>\n",
       "      <td>...</td>\n",
       "    </tr>\n",
       "    <tr>\n",
       "      <th>1699</th>\n",
       "      <td>Zimbabwe,\"Africa\",1987,62.351,9216418,706.1573059</td>\n",
       "    </tr>\n",
       "    <tr>\n",
       "      <th>1700</th>\n",
       "      <td>Zimbabwe,\"Africa\",1992,60.377,10704340,693.420...</td>\n",
       "    </tr>\n",
       "    <tr>\n",
       "      <th>1701</th>\n",
       "      <td>Zimbabwe,\"Africa\",1997,46.809,11404948,792.449...</td>\n",
       "    </tr>\n",
       "    <tr>\n",
       "      <th>1702</th>\n",
       "      <td>Zimbabwe,\"Africa\",2002,39.989,11926563,672.038...</td>\n",
       "    </tr>\n",
       "    <tr>\n",
       "      <th>1703</th>\n",
       "      <td>Zimbabwe,\"Africa\",2007,43.487,12311143,469.709...</td>\n",
       "    </tr>\n",
       "  </tbody>\n",
       "</table>\n",
       "<p>1704 rows × 1 columns</p>\n",
       "</div>"
      ],
      "text/plain": [
       "     country,\"continent\",\"year\",\"lifeExp\",\"pop\",\"gdpPercap\"\n",
       "0     Afghanistan,\"Asia\",1952,28.801,8425333,779.445...    \n",
       "1     Afghanistan,\"Asia\",1957,30.332,9240934,820.853...    \n",
       "2     Afghanistan,\"Asia\",1962,31.997,10267083,853.10071    \n",
       "3     Afghanistan,\"Asia\",1967,34.02,11537966,836.197...    \n",
       "4     Afghanistan,\"Asia\",1972,36.088,13079460,739.98...    \n",
       "...                                                 ...    \n",
       "1699  Zimbabwe,\"Africa\",1987,62.351,9216418,706.1573059    \n",
       "1700  Zimbabwe,\"Africa\",1992,60.377,10704340,693.420...    \n",
       "1701  Zimbabwe,\"Africa\",1997,46.809,11404948,792.449...    \n",
       "1702  Zimbabwe,\"Africa\",2002,39.989,11926563,672.038...    \n",
       "1703  Zimbabwe,\"Africa\",2007,43.487,12311143,469.709...    \n",
       "\n",
       "[1704 rows x 1 columns]"
      ]
     },
     "execution_count": 5,
     "metadata": {},
     "output_type": "execute_result"
    }
   ],
   "source": [
    "df = pd.read_csv(\"data/gapminder.csv\", decimal = \".\")\n",
    "df"
   ]
  },
  {
   "cell_type": "code",
   "execution_count": null,
   "id": "fcd7f20c",
   "metadata": {},
   "outputs": [],
   "source": []
  }
 ],
 "metadata": {
  "kernelspec": {
   "display_name": "Python 3 (ipykernel)",
   "language": "python",
   "name": "python3"
  },
  "language_info": {
   "codemirror_mode": {
    "name": "ipython",
    "version": 3
   },
   "file_extension": ".py",
   "mimetype": "text/x-python",
   "name": "python",
   "nbconvert_exporter": "python",
   "pygments_lexer": "ipython3",
   "version": "3.11.5"
  }
 },
 "nbformat": 4,
 "nbformat_minor": 5
}
